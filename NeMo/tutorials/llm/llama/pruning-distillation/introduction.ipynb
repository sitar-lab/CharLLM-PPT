{
 "cells": [
  {
   "cell_type": "markdown",
   "id": "411e6711-60fc-4488-8aa1-c6463cac8695",
   "metadata": {
    "tags": []
   },
   "source": [
    "# Efficient Model Reduction with Pruning and Distillation of Llama 3.1 Using NeMo Framework"
   ]
  },
  {
   "cell_type": "markdown",
   "id": "03fd1cf4-c67a-4b8d-a5e5-46531be0f991",
   "metadata": {},
   "source": [
    "This tutorial demonstrates how to perform depth-pruning, teacher fine-tuning, and distillation on **Llama 3.1-8B** using the [WikiText-103-v1](https://huggingface.co/datasets/Salesforce/wikitext/viewer/wikitext-103-v1) dataset with NeMo Framework. The [WikiText-103-v1](https://huggingface.co/datasets/Salesforce/wikitext/viewer/wikitext-103-v1) language modeling dataset comprises over 100 million tokens extracted from verified Good and Featured articles on Wikipedia.\n",
    "\n",
    "For this demonstration, we will perform teacher correction by running a light fine-tuning procedure on the `Meta Llama 3.1 8B` teacher model to generate a fine-tuned teacher model, `megatron_llama_ft.nemo`, needed for optimal distillation. This fine-tuned teacher model is then trimmed. There are two methods to prune a model: depth-pruning and width-pruning. We will explore both techniques, yielding `4b_depth_pruned_model.nemo` and `4b_width_pruned_model.nemo`, respectively. These models will serve as starting points for distillation to create the final distilled 4B models.\n",
    "\n",
    "> We are using models utilizing the `meta-llama/Llama-3.1-8B` tokenizer for this demonstration.\n",
    "\n",
    "> `NOTE:` Ensure that you run this notebook inside the [NeMo Framework container](https://catalog.ngc.nvidia.com/orgs/nvidia/containers/nemo) which has all the required dependencies. \n",
    "\n",
    "**Instructions for downloading the model and the container are available in the [README](./README.rst).**"
   ]
  },
  {
   "cell_type": "code",
   "execution_count": null,
   "id": "5a5026ce-39f1-43e3-93af-4c4f1e9da1f2",
   "metadata": {
    "scrolled": true,
    "tags": []
   },
   "outputs": [],
   "source": [
    "!pip install --upgrade ipywidgets notebook\n",
    "!pip install datasets"
   ]
  },
  {
   "cell_type": "markdown",
   "id": "afe59b07-bb48-4913-90cc-bb416b48196c",
   "metadata": {
    "tags": []
   },
   "source": [
    "---\n",
    "## Prerequisites\n",
    "Ensure you meet the prerequisites listed in this section.\n",
    "1. **Get the teacher model**: Download the `Meta Llama 3.1 8B .nemo` model. You must follow the instructions in the associated README to download and mount the folder to the NeMo Framework container."
   ]
  },
  {
   "cell_type": "code",
   "execution_count": null,
   "id": "b9d48b81-e978-4894-8ba4-4f183f698bb1",
   "metadata": {
    "tags": []
   },
   "outputs": [],
   "source": [
    "!ls /workspace/llama-3_1-8b-nemo_v1.0/llama3_1_8b.nemo"
   ]
  },
  {
   "cell_type": "markdown",
   "id": "7129d44e-0536-4e62-bdbc-0f1ad44dc84a",
   "metadata": {},
   "source": [
    "2. **Set the Hugging Face Access Token**: You can obtain this from your [Hugging Face account](https://huggingface.co/docs/hub/en/security-tokens). "
   ]
  },
  {
   "cell_type": "code",
   "execution_count": null,
   "id": "481417ed-1456-4962-8f67-4350bde1aabd",
   "metadata": {
    "tags": []
   },
   "outputs": [],
   "source": [
    "from huggingface_hub import login\n",
    "login(token=\"<YOUR_HF_ACCESS_TOKEN>\")"
   ]
  },
  {
   "cell_type": "markdown",
   "id": "245eda8d-c999-431e-9ebc-5c92c4f21f3b",
   "metadata": {},
   "source": [
    "3. **Obtain the dataset**: Generate the `wikitext-{train/val/test}.jsonl` splits after loading the [WikiText-103-v1](https://huggingface.co/datasets/Salesforce/wikitext/viewer/wikitext-103-v1) dataset."
   ]
  },
  {
   "cell_type": "code",
   "execution_count": null,
   "id": "eaef2c7d-41f7-41ad-a76a-2d714e9c35de",
   "metadata": {
    "scrolled": true,
    "tags": []
   },
   "outputs": [],
   "source": [
    "# Split into train, test and val files\n",
    "\n",
    "import json\n",
    "import os\n",
    "from datasets import load_dataset\n",
    "\n",
    "# Load the WikiText-103 dataset\n",
    "dataset = load_dataset(\"wikitext\", \"wikitext-103-v1\")\n",
    "\n",
    "# Define the destination folder\n",
    "data_folder = 'wikitext-data'\n",
    "os.makedirs(data_folder, exist_ok=True)\n",
    "\n",
    "# Define file paths and destination paths\n",
    "file_paths = {\n",
    "    'train': os.path.join(data_folder, 'wikitext-train.jsonl'),\n",
    "    'validation': os.path.join(data_folder, 'wikitext-val.jsonl'),\n",
    "    'test': os.path.join(data_folder, 'wikitext-test.jsonl')\n",
    "}\n",
    "\n",
    "# Function to save dataset split to a JSONL file\n",
    "def save_to_jsonl(file_path, data):\n",
    "    with open(file_path, 'w') as file:\n",
    "        for item in data:\n",
    "            file.write(json.dumps(item) + '\\n')\n",
    "\n",
    "# Define splits\n",
    "splits = [\"train\", \"validation\", \"test\"]\n",
    "\n",
    "# Save splits to JSONL files and calculate their sizes\n",
    "for split in splits:\n",
    "    if split in dataset:\n",
    "        save_to_jsonl(file_paths[split], dataset[split])\n",
    "    else:\n",
    "        print(f\"Split {split} not found in the dataset.\")\n"
   ]
  },
  {
   "cell_type": "markdown",
   "id": "2d0cc359-0598-40aa-af80-9503ecd4dac1",
   "metadata": {
    "tags": []
   },
   "source": [
    "---\n",
    "##  Step-by-Step Instructions\n",
    "\n",
    "This workflow is structured into seven notebooks:\n",
    "1. [Prepare the dataset](./01_data_preparation.ipynb)\n",
    "2. [Fine-tune the teacher on the dataset](./02_teacher_finetuning.ipynb)\n",
    "3. Prune the fine-tuned teacher model to create a student \n",
    "   - 3.a. [Using depth-pruning](./03_a_depth_pruning.ipynb)\n",
    "   - 3.b. [Using width-pruning](./03_b_width_pruning.ipynb)\n",
    "4. Distill knowledge from teacher into student\n",
    "   - 4.a. [Using depth-pruned student](./04_a_distilling_depth_pruned_student.ipynb)\n",
    "   - 4.b. [Using width-pruned student](./04_b_distilling_width_pruned_student.ipynb)\n",
    "5. [Display the validation loss](./05_display_results.ipynb)\n",
    "\n",
    "> `NOTE:` We are exploring two methods to prune the fine-tuned teacher model: [depth-pruning](./03_a_depth_pruning.ipynb) and [width-pruning](./03_b_width_pruning.ipynb). Per the [tech report](https://arxiv.org/pdf/2408.11796), we can observe that width-pruning generally outperforms depth-pruning so users can choose to perform either [depth-pruning](./03_a_depth_pruning.ipynb) or [width-pruning](./03_b_width_pruning.ipynb) or both methods."
   ]
  }
 ],
 "metadata": {
  "kernelspec": {
   "display_name": "Python 3 (ipykernel)",
   "language": "python",
   "name": "python3"
  },
  "language_info": {
   "codemirror_mode": {
    "name": "ipython",
    "version": 3
   },
   "file_extension": ".py",
   "mimetype": "text/x-python",
   "name": "python",
   "nbconvert_exporter": "python",
   "pygments_lexer": "ipython3",
   "version": "3.10.12"
  }
 },
 "nbformat": 4,
 "nbformat_minor": 5
}
