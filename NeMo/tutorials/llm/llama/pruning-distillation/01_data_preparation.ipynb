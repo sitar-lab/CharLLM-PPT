{
 "cells": [
  {
   "cell_type": "markdown",
   "id": "ab9e2e97-7f10-4353-859e-693842bde465",
   "metadata": {},
   "source": [
    "### Step 1: Prepare the dataset\n",
    "\n",
    "The dataset has to be preprocessed using the [preprocess_data_for_megatron.py](https://github.com/NVIDIA/NeMo/blob/main/scripts/nlp_language_modeling/preprocess_data_for_megatron.py) script included in the NeMo Framework. This step will also tokenize data using the `meta-llama/Llama-3.1-8B` tokenizer model to convert the data into a memory map format.\n",
    "\n",
    "> `NOTE:` In the block of code below, pass the paths to your train, test, and validation data files."
   ]
  },
  {
   "cell_type": "code",
   "execution_count": null,
   "id": "6505c00b-9eb4-4087-9e49-423f6228e690",
   "metadata": {
    "scrolled": true,
    "tags": []
   },
   "outputs": [],
   "source": [
    "!python /opt/NeMo/scripts/nlp_language_modeling/preprocess_data_for_megatron.py \\\n",
    "--input=\"./wikitext-data/wikitext-train.jsonl\" \\\n",
    "--tokenizer-library='huggingface' \\\n",
    "--tokenizer-type='meta-llama/Llama-3.1-8B' \\\n",
    "--output-prefix=wikitext_tokenized_train \\\n",
    "--append-eod \\\n",
    "--workers=32"
   ]
  },
  {
   "cell_type": "code",
   "execution_count": null,
   "id": "fb1aa80f-70bc-4dff-8b08-3bff48d9a1c3",
   "metadata": {
    "scrolled": true,
    "tags": []
   },
   "outputs": [],
   "source": [
    "!python /opt/NeMo/scripts/nlp_language_modeling/preprocess_data_for_megatron.py \\\n",
    "--input=\"./wikitext-data/wikitext-test.jsonl\" \\\n",
    "--tokenizer-library='huggingface' \\\n",
    "--tokenizer-type='meta-llama/Llama-3.1-8B' \\\n",
    "--output-prefix=wikitext_tokenized_test \\\n",
    "--append-eod \\\n",
    "--workers=32"
   ]
  },
  {
   "cell_type": "code",
   "execution_count": null,
   "id": "42bec54a-94f6-4c87-8e14-2726ef6c2625",
   "metadata": {
    "scrolled": true,
    "tags": []
   },
   "outputs": [],
   "source": [
    "!python /opt/NeMo/scripts/nlp_language_modeling/preprocess_data_for_megatron.py \\\n",
    "--input=\"./wikitext-data/wikitext-val.jsonl\" \\\n",
    "--tokenizer-library='huggingface' \\\n",
    "--tokenizer-type='meta-llama/Llama-3.1-8B' \\\n",
    "--output-prefix=wikitext_tokenized_val \\\n",
    "--append-eod \\\n",
    "--workers=32"
   ]
  },
  {
   "cell_type": "markdown",
   "id": "5d77ee8a-e0dc-44f7-b5e8-3b6025d979d7",
   "metadata": {},
   "source": [
    "After running the above scripts, you will see the preprocesed `wikitext_tokenized_{train/val/test}_text_document.{idx/bin}`files. These output files will be used in the next step."
   ]
  }
 ],
 "metadata": {
  "kernelspec": {
   "display_name": "Python 3 (ipykernel)",
   "language": "python",
   "name": "python3"
  },
  "language_info": {
   "codemirror_mode": {
    "name": "ipython",
    "version": 3
   },
   "file_extension": ".py",
   "mimetype": "text/x-python",
   "name": "python",
   "nbconvert_exporter": "python",
   "pygments_lexer": "ipython3",
   "version": "3.10.12"
  }
 },
 "nbformat": 4,
 "nbformat_minor": 5
}
