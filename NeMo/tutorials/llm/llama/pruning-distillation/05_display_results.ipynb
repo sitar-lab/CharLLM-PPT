{
 "cells": [
  {
   "cell_type": "markdown",
   "id": "6c91263b-b312-4ab2-b13f-0ee4b6e8bd0f",
   "metadata": {},
   "source": [
    "### Step 5: Display the validation loss\n",
    "\n",
    "Now that the results are in, let's visualize the validation loss of the two distilled models using the `tensorboard` library. \n",
    "\n",
    "> `NOTE:` This notebook demonstrates the use of the teacher fine-tuning, pruning, and the distillation script. These scripts should ideally be run on a multi-node cluster with a larger `GLOBAL_BATCH_SIZE` and `STEPS` to see improvement in the validation loss."
   ]
  },
  {
   "cell_type": "markdown",
   "id": "b5822d62-8131-4046-8c22-0bf0fce81df7",
   "metadata": {},
   "source": [
    "#### Validation Loss Using Depth-Pruned Model as Student in Distillation Script\n",
    "Here is an image of the validation loss over 30 steps of running the training step in the distillation script, where we distill the knowledge from the fine-tuned teacher model to the depth-pruned student."
   ]
  },
  {
   "cell_type": "code",
   "execution_count": null,
   "id": "0a665fe1-df45-4126-8694-f182af113133",
   "metadata": {
    "tags": []
   },
   "outputs": [],
   "source": [
    "%load_ext tensorboard\n",
    "%tensorboard --logdir \"distill_trainings/megatron_llama_distill_depth_pruned_student/\" --port=6007"
   ]
  },
  {
   "cell_type": "code",
   "execution_count": 1,
   "id": "db6fcf26-8ae8-40e1-875a-0a10bf85be81",
   "metadata": {
    "tags": []
   },
   "outputs": [
    {
     "data": {
      "text/html": [
       "<h5>Validation Loss over 30 Training Steps with Depth-Pruned Model as Student</h5>"
      ],
      "text/plain": [
       "<IPython.core.display.HTML object>"
      ]
     },
     "metadata": {},
     "output_type": "display_data"
    },
    {
     "data": {
      "text/html": [
       "<img src=\"https://github.com/NVIDIA/NeMo/releases/download/r2.0.0rc1/val_loss_depth_pruned_student_distillation.png\" width=\"400\"/>"
      ],
      "text/plain": [
       "<IPython.core.display.Image object>"
      ]
     },
     "metadata": {},
     "output_type": "display_data"
    }
   ],
   "source": [
    "from IPython.display import Image, display, HTML\n",
    "title = \"Validation Loss over 30 Training Steps with Depth-Pruned Model as Student\"\n",
    "display(HTML(f\"<h5>{title}</h5>\"))\n",
    "display(Image(url=\"https://github.com/NVIDIA/NeMo/releases/download/r2.0.0rc1/val_loss_depth_pruned_student_distillation.png\", width=400))"
   ]
  },
  {
   "cell_type": "markdown",
   "id": "f10041ae-6533-47de-9f76-f97d4469c27a",
   "metadata": {},
   "source": [
    "#### Validation Loss Using Width-Pruned Model as Student in Distillation Script\n",
    "Here is an image of the validation loss over 30 steps of running the training step in the distillation script, where we distill the knowledge from the fine-tuned teacher model to the width-pruned student."
   ]
  },
  {
   "cell_type": "code",
   "execution_count": null,
   "id": "7b0c3118-4987-4df3-88bd-fcffdb521c5d",
   "metadata": {
    "tags": []
   },
   "outputs": [],
   "source": [
    "%load_ext tensorboard\n",
    "%tensorboard --logdir \"distill_trainings/megatron_llama_distill_width_pruned_student/\" --port=6008"
   ]
  },
  {
   "cell_type": "code",
   "execution_count": 2,
   "id": "ecd79583-f662-40c6-a690-9f4bb847de4e",
   "metadata": {
    "tags": []
   },
   "outputs": [
    {
     "data": {
      "text/html": [
       "<h5>Validation Loss over 30 Training Steps with Width-Pruned Model as Student</h5>"
      ],
      "text/plain": [
       "<IPython.core.display.HTML object>"
      ]
     },
     "metadata": {},
     "output_type": "display_data"
    },
    {
     "data": {
      "text/html": [
       "<img src=\"https://github.com/NVIDIA/NeMo/releases/download/r2.0.0rc1/val_loss_width_pruned_student_distillation.png\" width=\"400\"/>"
      ],
      "text/plain": [
       "<IPython.core.display.Image object>"
      ]
     },
     "metadata": {},
     "output_type": "display_data"
    }
   ],
   "source": [
    "from IPython.display import Image, display, HTML\n",
    "title = \"Validation Loss over 30 Training Steps with Width-Pruned Model as Student\"\n",
    "display(HTML(f\"<h5>{title}</h5>\"))\n",
    "display(Image(url=\"https://github.com/NVIDIA/NeMo/releases/download/r2.0.0rc1/val_loss_width_pruned_student_distillation.png\", width=400))"
   ]
  }
 ],
 "metadata": {
  "kernelspec": {
   "display_name": "Python 3 (ipykernel)",
   "language": "python",
   "name": "python3"
  },
  "language_info": {
   "codemirror_mode": {
    "name": "ipython",
    "version": 3
   },
   "file_extension": ".py",
   "mimetype": "text/x-python",
   "name": "python",
   "nbconvert_exporter": "python",
   "pygments_lexer": "ipython3",
   "version": "3.10.12"
  }
 },
 "nbformat": 4,
 "nbformat_minor": 5
}
